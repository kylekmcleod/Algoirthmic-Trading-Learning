{
 "cells": [
  {
   "cell_type": "markdown",
   "metadata": {},
   "source": [
    "\n",
    "# Algorithmic Trading Machine Learning Project"
   ]
  },
  {
   "cell_type": "markdown",
   "metadata": {},
   "source": [
    "This is a machine learning project that will take in S&P 500 stock price data and use an unsupervised learning trading strategy. This is strictly for educational purposes and is to help me learn machine learning."
   ]
  },
  {
   "cell_type": "markdown",
   "metadata": {},
   "source": [
    "1. Install packages."
   ]
  },
  {
   "cell_type": "code",
   "execution_count": 1,
   "metadata": {},
   "outputs": [
    {
     "name": "stdout",
     "output_type": "stream",
     "text": [
      "Requirement already satisfied: pandas in c:\\users\\kyle\\onedrive\\desktop\\project folders\\algoirthmic trading\\my_virtual_env\\lib\\site-packages (2.0.3)\n",
      "Requirement already satisfied: tzdata>=2022.1 in c:\\users\\kyle\\onedrive\\desktop\\project folders\\algoirthmic trading\\my_virtual_env\\lib\\site-packages (from pandas) (2024.1)\n",
      "Requirement already satisfied: python-dateutil>=2.8.2 in c:\\users\\kyle\\onedrive\\desktop\\project folders\\algoirthmic trading\\my_virtual_env\\lib\\site-packages (from pandas) (2.9.0.post0)\n",
      "Requirement already satisfied: pytz>=2020.1 in c:\\users\\kyle\\onedrive\\desktop\\project folders\\algoirthmic trading\\my_virtual_env\\lib\\site-packages (from pandas) (2024.1)\n",
      "Requirement already satisfied: numpy>=1.20.3 in c:\\users\\kyle\\onedrive\\desktop\\project folders\\algoirthmic trading\\my_virtual_env\\lib\\site-packages (from pandas) (1.24.4)\n",
      "Requirement already satisfied: six>=1.5 in c:\\users\\kyle\\onedrive\\desktop\\project folders\\algoirthmic trading\\my_virtual_env\\lib\\site-packages (from python-dateutil>=2.8.2->pandas) (1.16.0)\n"
     ]
    },
    {
     "name": "stderr",
     "output_type": "stream",
     "text": [
      "WARNING: You are using pip version 21.1.1; however, version 24.1.1 is available.\n",
      "You should consider upgrading via the 'c:\\users\\kyle\\onedrive\\desktop\\project folders\\algoirthmic trading\\my_virtual_env\\scripts\\python.exe -m pip install --upgrade pip' command.\n"
     ]
    },
    {
     "name": "stdout",
     "output_type": "stream",
     "text": [
      "Requirement already satisfied: numpy in c:\\users\\kyle\\onedrive\\desktop\\project folders\\algoirthmic trading\\my_virtual_env\\lib\\site-packages (1.24.4)\n"
     ]
    },
    {
     "name": "stderr",
     "output_type": "stream",
     "text": [
      "WARNING: You are using pip version 21.1.1; however, version 24.1.1 is available.\n",
      "You should consider upgrading via the 'c:\\users\\kyle\\onedrive\\desktop\\project folders\\algoirthmic trading\\my_virtual_env\\scripts\\python.exe -m pip install --upgrade pip' command.\n"
     ]
    },
    {
     "name": "stdout",
     "output_type": "stream",
     "text": [
      "Requirement already satisfied: matplotlib in c:\\users\\kyle\\onedrive\\desktop\\project folders\\algoirthmic trading\\my_virtual_env\\lib\\site-packages (3.7.5)\n",
      "Requirement already satisfied: pillow>=6.2.0 in c:\\users\\kyle\\onedrive\\desktop\\project folders\\algoirthmic trading\\my_virtual_env\\lib\\site-packages (from matplotlib) (10.4.0)\n",
      "Requirement already satisfied: contourpy>=1.0.1 in c:\\users\\kyle\\onedrive\\desktop\\project folders\\algoirthmic trading\\my_virtual_env\\lib\\site-packages (from matplotlib) (1.1.1)\n",
      "Requirement already satisfied: packaging>=20.0 in c:\\users\\kyle\\onedrive\\desktop\\project folders\\algoirthmic trading\\my_virtual_env\\lib\\site-packages (from matplotlib) (24.1)\n",
      "Requirement already satisfied: numpy<2,>=1.20 in c:\\users\\kyle\\onedrive\\desktop\\project folders\\algoirthmic trading\\my_virtual_env\\lib\\site-packages (from matplotlib) (1.24.4)\n",
      "Requirement already satisfied: fonttools>=4.22.0 in c:\\users\\kyle\\onedrive\\desktop\\project folders\\algoirthmic trading\\my_virtual_env\\lib\\site-packages (from matplotlib) (4.53.0)\n",
      "Requirement already satisfied: pyparsing>=2.3.1 in c:\\users\\kyle\\onedrive\\desktop\\project folders\\algoirthmic trading\\my_virtual_env\\lib\\site-packages (from matplotlib) (3.1.2)\n",
      "Requirement already satisfied: kiwisolver>=1.0.1 in c:\\users\\kyle\\onedrive\\desktop\\project folders\\algoirthmic trading\\my_virtual_env\\lib\\site-packages (from matplotlib) (1.4.5)\n",
      "Requirement already satisfied: cycler>=0.10 in c:\\users\\kyle\\onedrive\\desktop\\project folders\\algoirthmic trading\\my_virtual_env\\lib\\site-packages (from matplotlib) (0.12.1)\n",
      "Requirement already satisfied: importlib-resources>=3.2.0 in c:\\users\\kyle\\onedrive\\desktop\\project folders\\algoirthmic trading\\my_virtual_env\\lib\\site-packages (from matplotlib) (6.4.0)\n",
      "Requirement already satisfied: python-dateutil>=2.7 in c:\\users\\kyle\\onedrive\\desktop\\project folders\\algoirthmic trading\\my_virtual_env\\lib\\site-packages (from matplotlib) (2.9.0.post0)\n",
      "Requirement already satisfied: zipp>=3.1.0 in c:\\users\\kyle\\onedrive\\desktop\\project folders\\algoirthmic trading\\my_virtual_env\\lib\\site-packages (from importlib-resources>=3.2.0->matplotlib) (3.19.2)\n",
      "Requirement already satisfied: six>=1.5 in c:\\users\\kyle\\onedrive\\desktop\\project folders\\algoirthmic trading\\my_virtual_env\\lib\\site-packages (from python-dateutil>=2.7->matplotlib) (1.16.0)\n"
     ]
    },
    {
     "name": "stderr",
     "output_type": "stream",
     "text": [
      "WARNING: You are using pip version 21.1.1; however, version 24.1.1 is available.\n",
      "You should consider upgrading via the 'c:\\users\\kyle\\onedrive\\desktop\\project folders\\algoirthmic trading\\my_virtual_env\\scripts\\python.exe -m pip install --upgrade pip' command.\n"
     ]
    },
    {
     "name": "stdout",
     "output_type": "stream",
     "text": [
      "Requirement already satisfied: statsmodels in c:\\users\\kyle\\onedrive\\desktop\\project folders\\algoirthmic trading\\my_virtual_env\\lib\\site-packages (0.14.1)\n",
      "Requirement already satisfied: packaging>=21.3 in c:\\users\\kyle\\onedrive\\desktop\\project folders\\algoirthmic trading\\my_virtual_env\\lib\\site-packages (from statsmodels) (24.1)\n",
      "Requirement already satisfied: scipy!=1.9.2,>=1.4 in c:\\users\\kyle\\onedrive\\desktop\\project folders\\algoirthmic trading\\my_virtual_env\\lib\\site-packages (from statsmodels) (1.10.1)\n",
      "Requirement already satisfied: patsy>=0.5.4 in c:\\users\\kyle\\onedrive\\desktop\\project folders\\algoirthmic trading\\my_virtual_env\\lib\\site-packages (from statsmodels) (0.5.6)\n",
      "Requirement already satisfied: pandas!=2.1.0,>=1.0 in c:\\users\\kyle\\onedrive\\desktop\\project folders\\algoirthmic trading\\my_virtual_env\\lib\\site-packages (from statsmodels) (2.0.3)\n",
      "Requirement already satisfied: numpy<2,>=1.18 in c:\\users\\kyle\\onedrive\\desktop\\project folders\\algoirthmic trading\\my_virtual_env\\lib\\site-packages (from statsmodels) (1.24.4)\n",
      "Requirement already satisfied: tzdata>=2022.1 in c:\\users\\kyle\\onedrive\\desktop\\project folders\\algoirthmic trading\\my_virtual_env\\lib\\site-packages (from pandas!=2.1.0,>=1.0->statsmodels) (2024.1)\n",
      "Requirement already satisfied: python-dateutil>=2.8.2 in c:\\users\\kyle\\onedrive\\desktop\\project folders\\algoirthmic trading\\my_virtual_env\\lib\\site-packages (from pandas!=2.1.0,>=1.0->statsmodels) (2.9.0.post0)\n",
      "Requirement already satisfied: pytz>=2020.1 in c:\\users\\kyle\\onedrive\\desktop\\project folders\\algoirthmic trading\\my_virtual_env\\lib\\site-packages (from pandas!=2.1.0,>=1.0->statsmodels) (2024.1)\n",
      "Requirement already satisfied: six in c:\\users\\kyle\\onedrive\\desktop\\project folders\\algoirthmic trading\\my_virtual_env\\lib\\site-packages (from patsy>=0.5.4->statsmodels) (1.16.0)\n"
     ]
    },
    {
     "name": "stderr",
     "output_type": "stream",
     "text": [
      "WARNING: You are using pip version 21.1.1; however, version 24.1.1 is available.\n",
      "You should consider upgrading via the 'c:\\users\\kyle\\onedrive\\desktop\\project folders\\algoirthmic trading\\my_virtual_env\\scripts\\python.exe -m pip install --upgrade pip' command.\n"
     ]
    },
    {
     "name": "stdout",
     "output_type": "stream",
     "text": [
      "Requirement already satisfied: pandas_datareader in c:\\users\\kyle\\onedrive\\desktop\\project folders\\algoirthmic trading\\my_virtual_env\\lib\\site-packages (0.10.0)\n",
      "Requirement already satisfied: requests>=2.19.0 in c:\\users\\kyle\\onedrive\\desktop\\project folders\\algoirthmic trading\\my_virtual_env\\lib\\site-packages (from pandas_datareader) (2.32.3)\n",
      "Requirement already satisfied: lxml in c:\\users\\kyle\\onedrive\\desktop\\project folders\\algoirthmic trading\\my_virtual_env\\lib\\site-packages (from pandas_datareader) (5.2.2)\n",
      "Requirement already satisfied: pandas>=0.23 in c:\\users\\kyle\\onedrive\\desktop\\project folders\\algoirthmic trading\\my_virtual_env\\lib\\site-packages (from pandas_datareader) (2.0.3)\n",
      "Requirement already satisfied: python-dateutil>=2.8.2 in c:\\users\\kyle\\onedrive\\desktop\\project folders\\algoirthmic trading\\my_virtual_env\\lib\\site-packages (from pandas>=0.23->pandas_datareader) (2.9.0.post0)\n",
      "Requirement already satisfied: tzdata>=2022.1 in c:\\users\\kyle\\onedrive\\desktop\\project folders\\algoirthmic trading\\my_virtual_env\\lib\\site-packages (from pandas>=0.23->pandas_datareader) (2024.1)\n",
      "Requirement already satisfied: numpy>=1.20.3 in c:\\users\\kyle\\onedrive\\desktop\\project folders\\algoirthmic trading\\my_virtual_env\\lib\\site-packages (from pandas>=0.23->pandas_datareader) (1.24.4)\n",
      "Requirement already satisfied: pytz>=2020.1 in c:\\users\\kyle\\onedrive\\desktop\\project folders\\algoirthmic trading\\my_virtual_env\\lib\\site-packages (from pandas>=0.23->pandas_datareader) (2024.1)\n",
      "Requirement already satisfied: six>=1.5 in c:\\users\\kyle\\onedrive\\desktop\\project folders\\algoirthmic trading\\my_virtual_env\\lib\\site-packages (from python-dateutil>=2.8.2->pandas>=0.23->pandas_datareader) (1.16.0)\n",
      "Requirement already satisfied: idna<4,>=2.5 in c:\\users\\kyle\\onedrive\\desktop\\project folders\\algoirthmic trading\\my_virtual_env\\lib\\site-packages (from requests>=2.19.0->pandas_datareader) (3.7)\n",
      "Requirement already satisfied: urllib3<3,>=1.21.1 in c:\\users\\kyle\\onedrive\\desktop\\project folders\\algoirthmic trading\\my_virtual_env\\lib\\site-packages (from requests>=2.19.0->pandas_datareader) (2.2.2)\n",
      "Requirement already satisfied: charset-normalizer<4,>=2 in c:\\users\\kyle\\onedrive\\desktop\\project folders\\algoirthmic trading\\my_virtual_env\\lib\\site-packages (from requests>=2.19.0->pandas_datareader) (3.3.2)\n",
      "Requirement already satisfied: certifi>=2017.4.17 in c:\\users\\kyle\\onedrive\\desktop\\project folders\\algoirthmic trading\\my_virtual_env\\lib\\site-packages (from requests>=2.19.0->pandas_datareader) (2024.6.2)\n"
     ]
    },
    {
     "name": "stderr",
     "output_type": "stream",
     "text": [
      "WARNING: You are using pip version 21.1.1; however, version 24.1.1 is available.\n",
      "You should consider upgrading via the 'c:\\users\\kyle\\onedrive\\desktop\\project folders\\algoirthmic trading\\my_virtual_env\\scripts\\python.exe -m pip install --upgrade pip' command.\n"
     ]
    },
    {
     "name": "stdout",
     "output_type": "stream",
     "text": [
      "Requirement already satisfied: datetime in c:\\users\\kyle\\onedrive\\desktop\\project folders\\algoirthmic trading\\my_virtual_env\\lib\\site-packages (5.5)\n",
      "Requirement already satisfied: zope.interface in c:\\users\\kyle\\onedrive\\desktop\\project folders\\algoirthmic trading\\my_virtual_env\\lib\\site-packages (from datetime) (6.4.post2)\n",
      "Requirement already satisfied: pytz in c:\\users\\kyle\\onedrive\\desktop\\project folders\\algoirthmic trading\\my_virtual_env\\lib\\site-packages (from datetime) (2024.1)\n",
      "Requirement already satisfied: setuptools in c:\\users\\kyle\\onedrive\\desktop\\project folders\\algoirthmic trading\\my_virtual_env\\lib\\site-packages (from zope.interface->datetime) (56.0.0)\n"
     ]
    },
    {
     "name": "stderr",
     "output_type": "stream",
     "text": [
      "WARNING: You are using pip version 21.1.1; however, version 24.1.1 is available.\n",
      "You should consider upgrading via the 'c:\\users\\kyle\\onedrive\\desktop\\project folders\\algoirthmic trading\\my_virtual_env\\scripts\\python.exe -m pip install --upgrade pip' command.\n"
     ]
    },
    {
     "name": "stdout",
     "output_type": "stream",
     "text": [
      "Requirement already satisfied: yfinance in c:\\users\\kyle\\onedrive\\desktop\\project folders\\algoirthmic trading\\my_virtual_env\\lib\\site-packages (0.2.40)\n",
      "Requirement already satisfied: html5lib>=1.1 in c:\\users\\kyle\\onedrive\\desktop\\project folders\\algoirthmic trading\\my_virtual_env\\lib\\site-packages (from yfinance) (1.1)\n",
      "Requirement already satisfied: numpy>=1.16.5 in c:\\users\\kyle\\onedrive\\desktop\\project folders\\algoirthmic trading\\my_virtual_env\\lib\\site-packages (from yfinance) (1.24.4)\n",
      "Requirement already satisfied: frozendict>=2.3.4 in c:\\users\\kyle\\onedrive\\desktop\\project folders\\algoirthmic trading\\my_virtual_env\\lib\\site-packages (from yfinance) (2.4.4)\n",
      "Requirement already satisfied: platformdirs>=2.0.0 in c:\\users\\kyle\\onedrive\\desktop\\project folders\\algoirthmic trading\\my_virtual_env\\lib\\site-packages (from yfinance) (4.2.2)\n",
      "Requirement already satisfied: pandas>=1.3.0 in c:\\users\\kyle\\onedrive\\desktop\\project folders\\algoirthmic trading\\my_virtual_env\\lib\\site-packages (from yfinance) (2.0.3)\n",
      "Requirement already satisfied: requests>=2.31 in c:\\users\\kyle\\onedrive\\desktop\\project folders\\algoirthmic trading\\my_virtual_env\\lib\\site-packages (from yfinance) (2.32.3)\n",
      "Requirement already satisfied: beautifulsoup4>=4.11.1 in c:\\users\\kyle\\onedrive\\desktop\\project folders\\algoirthmic trading\\my_virtual_env\\lib\\site-packages (from yfinance) (4.12.3)\n",
      "Requirement already satisfied: pytz>=2022.5 in c:\\users\\kyle\\onedrive\\desktop\\project folders\\algoirthmic trading\\my_virtual_env\\lib\\site-packages (from yfinance) (2024.1)\n",
      "Requirement already satisfied: lxml>=4.9.1 in c:\\users\\kyle\\onedrive\\desktop\\project folders\\algoirthmic trading\\my_virtual_env\\lib\\site-packages (from yfinance) (5.2.2)\n",
      "Requirement already satisfied: peewee>=3.16.2 in c:\\users\\kyle\\onedrive\\desktop\\project folders\\algoirthmic trading\\my_virtual_env\\lib\\site-packages (from yfinance) (3.17.5)\n",
      "Requirement already satisfied: multitasking>=0.0.7 in c:\\users\\kyle\\onedrive\\desktop\\project folders\\algoirthmic trading\\my_virtual_env\\lib\\site-packages (from yfinance) (0.0.11)\n",
      "Requirement already satisfied: soupsieve>1.2 in c:\\users\\kyle\\onedrive\\desktop\\project folders\\algoirthmic trading\\my_virtual_env\\lib\\site-packages (from beautifulsoup4>=4.11.1->yfinance) (2.5)\n",
      "Requirement already satisfied: six>=1.9 in c:\\users\\kyle\\onedrive\\desktop\\project folders\\algoirthmic trading\\my_virtual_env\\lib\\site-packages (from html5lib>=1.1->yfinance) (1.16.0)\n",
      "Requirement already satisfied: webencodings in c:\\users\\kyle\\onedrive\\desktop\\project folders\\algoirthmic trading\\my_virtual_env\\lib\\site-packages (from html5lib>=1.1->yfinance) (0.5.1)\n",
      "Requirement already satisfied: tzdata>=2022.1 in c:\\users\\kyle\\onedrive\\desktop\\project folders\\algoirthmic trading\\my_virtual_env\\lib\\site-packages (from pandas>=1.3.0->yfinance) (2024.1)\n",
      "Requirement already satisfied: python-dateutil>=2.8.2 in c:\\users\\kyle\\onedrive\\desktop\\project folders\\algoirthmic trading\\my_virtual_env\\lib\\site-packages (from pandas>=1.3.0->yfinance) (2.9.0.post0)\n",
      "Requirement already satisfied: charset-normalizer<4,>=2 in c:\\users\\kyle\\onedrive\\desktop\\project folders\\algoirthmic trading\\my_virtual_env\\lib\\site-packages (from requests>=2.31->yfinance) (3.3.2)\n",
      "Requirement already satisfied: urllib3<3,>=1.21.1 in c:\\users\\kyle\\onedrive\\desktop\\project folders\\algoirthmic trading\\my_virtual_env\\lib\\site-packages (from requests>=2.31->yfinance) (2.2.2)\n",
      "Requirement already satisfied: idna<4,>=2.5 in c:\\users\\kyle\\onedrive\\desktop\\project folders\\algoirthmic trading\\my_virtual_env\\lib\\site-packages (from requests>=2.31->yfinance) (3.7)\n",
      "Requirement already satisfied: certifi>=2017.4.17 in c:\\users\\kyle\\onedrive\\desktop\\project folders\\algoirthmic trading\\my_virtual_env\\lib\\site-packages (from requests>=2.31->yfinance) (2024.6.2)\n"
     ]
    },
    {
     "name": "stderr",
     "output_type": "stream",
     "text": [
      "WARNING: You are using pip version 21.1.1; however, version 24.1.1 is available.\n",
      "You should consider upgrading via the 'c:\\users\\kyle\\onedrive\\desktop\\project folders\\algoirthmic trading\\my_virtual_env\\scripts\\python.exe -m pip install --upgrade pip' command.\n"
     ]
    },
    {
     "name": "stdout",
     "output_type": "stream",
     "text": [
      "Requirement already satisfied: sklearn in c:\\users\\kyle\\onedrive\\desktop\\project folders\\algoirthmic trading\\my_virtual_env\\lib\\site-packages (0.0)\n",
      "Requirement already satisfied: scikit-learn in c:\\users\\kyle\\onedrive\\desktop\\project folders\\algoirthmic trading\\my_virtual_env\\lib\\site-packages (from sklearn) (1.3.2)\n",
      "Requirement already satisfied: scipy>=1.5.0 in c:\\users\\kyle\\onedrive\\desktop\\project folders\\algoirthmic trading\\my_virtual_env\\lib\\site-packages (from scikit-learn->sklearn) (1.10.1)\n",
      "Requirement already satisfied: numpy<2.0,>=1.17.3 in c:\\users\\kyle\\onedrive\\desktop\\project folders\\algoirthmic trading\\my_virtual_env\\lib\\site-packages (from scikit-learn->sklearn) (1.24.4)\n",
      "Requirement already satisfied: joblib>=1.1.1 in c:\\users\\kyle\\onedrive\\desktop\\project folders\\algoirthmic trading\\my_virtual_env\\lib\\site-packages (from scikit-learn->sklearn) (1.4.2)\n",
      "Requirement already satisfied: threadpoolctl>=2.0.0 in c:\\users\\kyle\\onedrive\\desktop\\project folders\\algoirthmic trading\\my_virtual_env\\lib\\site-packages (from scikit-learn->sklearn) (3.5.0)\n"
     ]
    },
    {
     "name": "stderr",
     "output_type": "stream",
     "text": [
      "WARNING: You are using pip version 21.1.1; however, version 24.1.1 is available.\n",
      "You should consider upgrading via the 'c:\\users\\kyle\\onedrive\\desktop\\project folders\\algoirthmic trading\\my_virtual_env\\scripts\\python.exe -m pip install --upgrade pip' command.\n"
     ]
    },
    {
     "name": "stdout",
     "output_type": "stream",
     "text": [
      "Requirement already satisfied: PyPortfolioOpt in c:\\users\\kyle\\onedrive\\desktop\\project folders\\algoirthmic trading\\my_virtual_env\\lib\\site-packages (1.5.5)\n",
      "Requirement already satisfied: numpy<2.0.0,>=1.22.4 in c:\\users\\kyle\\onedrive\\desktop\\project folders\\algoirthmic trading\\my_virtual_env\\lib\\site-packages (from PyPortfolioOpt) (1.24.4)\n",
      "Requirement already satisfied: pandas>=0.19 in c:\\users\\kyle\\onedrive\\desktop\\project folders\\algoirthmic trading\\my_virtual_env\\lib\\site-packages (from PyPortfolioOpt) (2.0.3)\n",
      "Requirement already satisfied: cvxpy<2.0.0,>=1.1.19 in c:\\users\\kyle\\onedrive\\desktop\\project folders\\algoirthmic trading\\my_virtual_env\\lib\\site-packages (from PyPortfolioOpt) (1.5.2)\n",
      "Requirement already satisfied: scipy<2.0,>=1.3 in c:\\users\\kyle\\onedrive\\desktop\\project folders\\algoirthmic trading\\my_virtual_env\\lib\\site-packages (from PyPortfolioOpt) (1.10.1)\n",
      "Requirement already satisfied: ecos>=2 in c:\\users\\kyle\\onedrive\\desktop\\project folders\\algoirthmic trading\\my_virtual_env\\lib\\site-packages (from cvxpy<2.0.0,>=1.1.19->PyPortfolioOpt) (2.0.14)\n",
      "Requirement already satisfied: scs>=3.2.4.post1 in c:\\users\\kyle\\onedrive\\desktop\\project folders\\algoirthmic trading\\my_virtual_env\\lib\\site-packages (from cvxpy<2.0.0,>=1.1.19->PyPortfolioOpt) (3.2.5)\n",
      "Requirement already satisfied: osqp>=0.6.2 in c:\\users\\kyle\\onedrive\\desktop\\project folders\\algoirthmic trading\\my_virtual_env\\lib\\site-packages (from cvxpy<2.0.0,>=1.1.19->PyPortfolioOpt) (0.6.7.post0)\n",
      "Requirement already satisfied: clarabel>=0.5.0 in c:\\users\\kyle\\onedrive\\desktop\\project folders\\algoirthmic trading\\my_virtual_env\\lib\\site-packages (from cvxpy<2.0.0,>=1.1.19->PyPortfolioOpt) (0.9.0)\n",
      "Requirement already satisfied: qdldl in c:\\users\\kyle\\onedrive\\desktop\\project folders\\algoirthmic trading\\my_virtual_env\\lib\\site-packages (from osqp>=0.6.2->cvxpy<2.0.0,>=1.1.19->PyPortfolioOpt) (0.1.7.post4)\n",
      "Requirement already satisfied: python-dateutil>=2.8.2 in c:\\users\\kyle\\onedrive\\desktop\\project folders\\algoirthmic trading\\my_virtual_env\\lib\\site-packages (from pandas>=0.19->PyPortfolioOpt) (2.9.0.post0)\n",
      "Requirement already satisfied: pytz>=2020.1 in c:\\users\\kyle\\onedrive\\desktop\\project folders\\algoirthmic trading\\my_virtual_env\\lib\\site-packages (from pandas>=0.19->PyPortfolioOpt) (2024.1)\n",
      "Requirement already satisfied: tzdata>=2022.1 in c:\\users\\kyle\\onedrive\\desktop\\project folders\\algoirthmic trading\\my_virtual_env\\lib\\site-packages (from pandas>=0.19->PyPortfolioOpt) (2024.1)\n",
      "Requirement already satisfied: six>=1.5 in c:\\users\\kyle\\onedrive\\desktop\\project folders\\algoirthmic trading\\my_virtual_env\\lib\\site-packages (from python-dateutil>=2.8.2->pandas>=0.19->PyPortfolioOpt) (1.16.0)\n"
     ]
    },
    {
     "name": "stderr",
     "output_type": "stream",
     "text": [
      "WARNING: You are using pip version 21.1.1; however, version 24.1.1 is available.\n",
      "You should consider upgrading via the 'c:\\users\\kyle\\onedrive\\desktop\\project folders\\algoirthmic trading\\my_virtual_env\\scripts\\python.exe -m pip install --upgrade pip' command.\n"
     ]
    }
   ],
   "source": [
    "!pip install pandas\n",
    "!pip install pandas_ta\n",
    "!pip install numpy\n",
    "!pip install matplotlib\n",
    "!pip install statsmodels\n",
    "!pip install pandas_datareader\n",
    "!pip install datetime\n",
    "!pip install yfinance\n",
    "!pip install sklearn\n",
    "!pip install PyPortfolioOpt"
   ]
  },
  {
   "cell_type": "markdown",
   "metadata": {},
   "source": [
    "2. Download S&P 500 data"
   ]
  },
  {
   "cell_type": "code",
   "execution_count": 15,
   "metadata": {},
   "outputs": [
    {
     "name": "stderr",
     "output_type": "stream",
     "text": [
      "[*********************100%%**********************]  503 of 503 completed\n",
      "\n",
      "3 Failed downloads:\n",
      "['SOLV', 'GEV', 'VLTO']: YFChartError(\"%ticker%: Data doesn't exist for startDate = 1443499200, endDate = 1695787200\")\n"
     ]
    },
    {
     "data": {
      "text/html": [
       "<div>\n",
       "<style scoped>\n",
       "    .dataframe tbody tr th:only-of-type {\n",
       "        vertical-align: middle;\n",
       "    }\n",
       "\n",
       "    .dataframe tbody tr th {\n",
       "        vertical-align: top;\n",
       "    }\n",
       "\n",
       "    .dataframe thead th {\n",
       "        text-align: right;\n",
       "    }\n",
       "</style>\n",
       "<table border=\"1\" class=\"dataframe\">\n",
       "  <thead>\n",
       "    <tr style=\"text-align: right;\">\n",
       "      <th></th>\n",
       "      <th>Price</th>\n",
       "      <th>adj close</th>\n",
       "      <th>close</th>\n",
       "      <th>high</th>\n",
       "      <th>low</th>\n",
       "      <th>open</th>\n",
       "      <th>volume</th>\n",
       "    </tr>\n",
       "    <tr>\n",
       "      <th>Date</th>\n",
       "      <th>Ticker</th>\n",
       "      <th></th>\n",
       "      <th></th>\n",
       "      <th></th>\n",
       "      <th></th>\n",
       "      <th></th>\n",
       "      <th></th>\n",
       "    </tr>\n",
       "  </thead>\n",
       "  <tbody>\n",
       "    <tr>\n",
       "      <th rowspan=\"5\" valign=\"top\">2015-09-29</th>\n",
       "      <th>A</th>\n",
       "      <td>31.483551</td>\n",
       "      <td>33.740002</td>\n",
       "      <td>34.060001</td>\n",
       "      <td>33.240002</td>\n",
       "      <td>33.360001</td>\n",
       "      <td>2252400.0</td>\n",
       "    </tr>\n",
       "    <tr>\n",
       "      <th>AAL</th>\n",
       "      <td>37.361626</td>\n",
       "      <td>39.180000</td>\n",
       "      <td>39.770000</td>\n",
       "      <td>38.790001</td>\n",
       "      <td>39.049999</td>\n",
       "      <td>7478800.0</td>\n",
       "    </tr>\n",
       "    <tr>\n",
       "      <th>AAPL</th>\n",
       "      <td>24.651144</td>\n",
       "      <td>27.264999</td>\n",
       "      <td>28.377501</td>\n",
       "      <td>26.965000</td>\n",
       "      <td>28.207500</td>\n",
       "      <td>293461600.0</td>\n",
       "    </tr>\n",
       "    <tr>\n",
       "      <th>ABBV</th>\n",
       "      <td>36.334915</td>\n",
       "      <td>52.790001</td>\n",
       "      <td>54.189999</td>\n",
       "      <td>51.880001</td>\n",
       "      <td>53.099998</td>\n",
       "      <td>12842800.0</td>\n",
       "    </tr>\n",
       "    <tr>\n",
       "      <th>ABT</th>\n",
       "      <td>33.478706</td>\n",
       "      <td>39.500000</td>\n",
       "      <td>40.150002</td>\n",
       "      <td>39.029999</td>\n",
       "      <td>39.259998</td>\n",
       "      <td>12287500.0</td>\n",
       "    </tr>\n",
       "    <tr>\n",
       "      <th>...</th>\n",
       "      <th>...</th>\n",
       "      <td>...</td>\n",
       "      <td>...</td>\n",
       "      <td>...</td>\n",
       "      <td>...</td>\n",
       "      <td>...</td>\n",
       "      <td>...</td>\n",
       "    </tr>\n",
       "    <tr>\n",
       "      <th rowspan=\"5\" valign=\"top\">2023-09-26</th>\n",
       "      <th>XYL</th>\n",
       "      <td>89.519997</td>\n",
       "      <td>89.519997</td>\n",
       "      <td>90.849998</td>\n",
       "      <td>89.500000</td>\n",
       "      <td>90.379997</td>\n",
       "      <td>1322400.0</td>\n",
       "    </tr>\n",
       "    <tr>\n",
       "      <th>YUM</th>\n",
       "      <td>122.211014</td>\n",
       "      <td>124.010002</td>\n",
       "      <td>124.739998</td>\n",
       "      <td>123.449997</td>\n",
       "      <td>124.239998</td>\n",
       "      <td>1500600.0</td>\n",
       "    </tr>\n",
       "    <tr>\n",
       "      <th>ZBH</th>\n",
       "      <td>112.459999</td>\n",
       "      <td>112.459999</td>\n",
       "      <td>117.110001</td>\n",
       "      <td>112.419998</td>\n",
       "      <td>116.769997</td>\n",
       "      <td>3610500.0</td>\n",
       "    </tr>\n",
       "    <tr>\n",
       "      <th>ZBRA</th>\n",
       "      <td>223.960007</td>\n",
       "      <td>223.960007</td>\n",
       "      <td>226.649994</td>\n",
       "      <td>222.580002</td>\n",
       "      <td>225.970001</td>\n",
       "      <td>355400.0</td>\n",
       "    </tr>\n",
       "    <tr>\n",
       "      <th>ZTS</th>\n",
       "      <td>176.869995</td>\n",
       "      <td>176.869995</td>\n",
       "      <td>178.449997</td>\n",
       "      <td>176.270004</td>\n",
       "      <td>176.580002</td>\n",
       "      <td>1463200.0</td>\n",
       "    </tr>\n",
       "  </tbody>\n",
       "</table>\n",
       "<p>987967 rows × 6 columns</p>\n",
       "</div>"
      ],
      "text/plain": [
       "Price               adj close       close        high         low        open  \\\n",
       "Date       Ticker                                                               \n",
       "2015-09-29 A        31.483551   33.740002   34.060001   33.240002   33.360001   \n",
       "           AAL      37.361626   39.180000   39.770000   38.790001   39.049999   \n",
       "           AAPL     24.651144   27.264999   28.377501   26.965000   28.207500   \n",
       "           ABBV     36.334915   52.790001   54.189999   51.880001   53.099998   \n",
       "           ABT      33.478706   39.500000   40.150002   39.029999   39.259998   \n",
       "...                       ...         ...         ...         ...         ...   \n",
       "2023-09-26 XYL      89.519997   89.519997   90.849998   89.500000   90.379997   \n",
       "           YUM     122.211014  124.010002  124.739998  123.449997  124.239998   \n",
       "           ZBH     112.459999  112.459999  117.110001  112.419998  116.769997   \n",
       "           ZBRA    223.960007  223.960007  226.649994  222.580002  225.970001   \n",
       "           ZTS     176.869995  176.869995  178.449997  176.270004  176.580002   \n",
       "\n",
       "Price                   volume  \n",
       "Date       Ticker               \n",
       "2015-09-29 A         2252400.0  \n",
       "           AAL       7478800.0  \n",
       "           AAPL    293461600.0  \n",
       "           ABBV     12842800.0  \n",
       "           ABT      12287500.0  \n",
       "...                        ...  \n",
       "2023-09-26 XYL       1322400.0  \n",
       "           YUM       1500600.0  \n",
       "           ZBH       3610500.0  \n",
       "           ZBRA       355400.0  \n",
       "           ZTS       1463200.0  \n",
       "\n",
       "[987967 rows x 6 columns]"
      ]
     },
     "execution_count": 15,
     "metadata": {},
     "output_type": "execute_result"
    }
   ],
   "source": [
    "from statsmodels.regression.rolling import RollingOLS\n",
    "import pandas_datareader.data as web\n",
    "import matplotlib.pyplot as plt\n",
    "import statsmodels.api as sm\n",
    "import pandas as pd\n",
    "import numpy as np\n",
    "import datetime as dt\n",
    "import yfinance as yf\n",
    "import pandas_ta\n",
    "import warnings\n",
    "warnings.filterwarnings('ignore')\n",
    "\n",
    "# Read the S&P 500 list of companies\n",
    "sp500 = pd.read_html('https://en.wikipedia.org/wiki/List_of_S%26P_500_companies')[0]\n",
    "\n",
    "# Remove the dot from the symbol names\n",
    "sp500['Symbol'] = sp500['Symbol'].str.replace('.', '-')\n",
    "\n",
    "# Get the list of symbols\n",
    "symbols_list = sp500['Symbol'].unique().tolist()\n",
    "symbols_list\n",
    "\n",
    "# Define the start and end dates\n",
    "end_date = '2023-09-27'\n",
    "start_date = pd.to_datetime(end_date) - pd.DateOffset(365 * 8)\n",
    "\n",
    "# Download the data\n",
    "df = yf.download(tickers = symbols_list, \n",
    "                 start=start_date, \n",
    "                 end=end_date).stack()\n",
    "df.index.names = ['Date', 'Ticker']\n",
    "df.columns = df.columns.str.lower()\n",
    "\n",
    "df\n"
   ]
  }
 ],
 "metadata": {
  "kernelspec": {
   "display_name": "my_virtual_env",
   "language": "python",
   "name": "python3"
  },
  "language_info": {
   "codemirror_mode": {
    "name": "ipython",
    "version": 3
   },
   "file_extension": ".py",
   "mimetype": "text/x-python",
   "name": "python",
   "nbconvert_exporter": "python",
   "pygments_lexer": "ipython3",
   "version": "3.8.10"
  }
 },
 "nbformat": 4,
 "nbformat_minor": 2
}
